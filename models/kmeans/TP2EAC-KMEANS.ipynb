{
 "cells": [
  {
   "cell_type": "markdown",
   "metadata": {},
   "source": [
    "# Notebook Modelo \n",
    "\n",
    "Esse notebook é um notebook modelo para aplicação dos algoritmos aos datasets deste trabalho. O input deste notebook são os 4 datsets, sendo que dois deles são com os dados tratados e outros dois para além do tratamento dos dados têm a normalização dos dados."
   ]
  },
  {
   "cell_type": "code",
   "execution_count": 4,
   "metadata": {},
   "outputs": [],
   "source": [
    "import numpy as np\n",
    "import pandas as pd\n",
    "import matplotlib.pyplot as plt\n",
    "%matplotlib inline\n",
    "import seaborn as sns\n",
    "from sklearn.metrics import confusion_matrix\n",
    "from sklearn.cluster import KMeans\n",
    "from sklearn.model_selection import train_test_split\n",
    "from sklearn.metrics import accuracy_score, confusion_matrix, classification_report\n",
    "from imblearn.over_sampling import SMOTE\n",
    "from imblearn.under_sampling import NearMiss\n",
    "from sklearn.naive_bayes import GaussianNB\n",
    "import seaborn as sns\n",
    "from collections import Counter\n",
    "from imblearn.over_sampling import SMOTE\n",
    "from imblearn.under_sampling import RandomUnderSampler\n",
    "import pickle\n"
   ]
  },
  {
   "cell_type": "markdown",
   "metadata": {},
   "source": [
    "## Importando datasets\n",
    "\n",
    "Aqui mencionamos que usaremos dois tipos de datasets, os com tratamento dos dados e outros dois que para além do tratamento encontram-se normalizados."
   ]
  },
  {
   "cell_type": "markdown",
   "metadata": {},
   "source": [
    "#### Datasets Tratados"
   ]
  },
  {
   "cell_type": "code",
   "execution_count": 5,
   "metadata": {},
   "outputs": [],
   "source": [
    "data_train = pd.read_csv('./../datasets/df_train.csv')\n",
    "data_test = pd.read_csv('./../datasets/df_test.csv')"
   ]
  },
  {
   "cell_type": "code",
   "execution_count": 6,
   "metadata": {},
   "outputs": [
    {
     "data": {
      "text/html": [
       "<div>\n",
       "<style scoped>\n",
       "    .dataframe tbody tr th:only-of-type {\n",
       "        vertical-align: middle;\n",
       "    }\n",
       "\n",
       "    .dataframe tbody tr th {\n",
       "        vertical-align: top;\n",
       "    }\n",
       "\n",
       "    .dataframe thead th {\n",
       "        text-align: right;\n",
       "    }\n",
       "</style>\n",
       "<table border=\"1\" class=\"dataframe\">\n",
       "  <thead>\n",
       "    <tr style=\"text-align: right;\">\n",
       "      <th></th>\n",
       "      <th>age</th>\n",
       "      <th>education</th>\n",
       "      <th>capital_gain</th>\n",
       "      <th>capital_loss</th>\n",
       "      <th>hours_per_week</th>\n",
       "      <th>status_civic</th>\n",
       "      <th>target</th>\n",
       "    </tr>\n",
       "  </thead>\n",
       "  <tbody>\n",
       "    <tr>\n",
       "      <th>0</th>\n",
       "      <td>25</td>\n",
       "      <td>7</td>\n",
       "      <td>0</td>\n",
       "      <td>0</td>\n",
       "      <td>40</td>\n",
       "      <td>1</td>\n",
       "      <td>0</td>\n",
       "    </tr>\n",
       "    <tr>\n",
       "      <th>1</th>\n",
       "      <td>38</td>\n",
       "      <td>9</td>\n",
       "      <td>0</td>\n",
       "      <td>0</td>\n",
       "      <td>50</td>\n",
       "      <td>0</td>\n",
       "      <td>0</td>\n",
       "    </tr>\n",
       "    <tr>\n",
       "      <th>2</th>\n",
       "      <td>28</td>\n",
       "      <td>12</td>\n",
       "      <td>0</td>\n",
       "      <td>0</td>\n",
       "      <td>40</td>\n",
       "      <td>0</td>\n",
       "      <td>1</td>\n",
       "    </tr>\n",
       "    <tr>\n",
       "      <th>3</th>\n",
       "      <td>44</td>\n",
       "      <td>10</td>\n",
       "      <td>7688</td>\n",
       "      <td>0</td>\n",
       "      <td>40</td>\n",
       "      <td>0</td>\n",
       "      <td>1</td>\n",
       "    </tr>\n",
       "    <tr>\n",
       "      <th>4</th>\n",
       "      <td>34</td>\n",
       "      <td>6</td>\n",
       "      <td>0</td>\n",
       "      <td>0</td>\n",
       "      <td>30</td>\n",
       "      <td>1</td>\n",
       "      <td>0</td>\n",
       "    </tr>\n",
       "  </tbody>\n",
       "</table>\n",
       "</div>"
      ],
      "text/plain": [
       "   age  education  capital_gain  capital_loss  hours_per_week  status_civic  \\\n",
       "0   25          7             0             0              40             1   \n",
       "1   38          9             0             0              50             0   \n",
       "2   28         12             0             0              40             0   \n",
       "3   44         10          7688             0              40             0   \n",
       "4   34          6             0             0              30             1   \n",
       "\n",
       "   target  \n",
       "0       0  \n",
       "1       0  \n",
       "2       1  \n",
       "3       1  \n",
       "4       0  "
      ]
     },
     "execution_count": 6,
     "metadata": {},
     "output_type": "execute_result"
    }
   ],
   "source": [
    "data_test.head()"
   ]
  },
  {
   "cell_type": "markdown",
   "metadata": {},
   "source": [
    "#### Datasets Normalizados"
   ]
  },
  {
   "cell_type": "code",
   "execution_count": 7,
   "metadata": {},
   "outputs": [],
   "source": [
    "data_train_norm = pd.read_csv('./../datasets/train_normalize.csv')\n",
    "data_test_norm = pd.read_csv('./../datasets/test_normalize.csv')"
   ]
  },
  {
   "cell_type": "code",
   "execution_count": 8,
   "metadata": {},
   "outputs": [
    {
     "data": {
      "text/html": [
       "<div>\n",
       "<style scoped>\n",
       "    .dataframe tbody tr th:only-of-type {\n",
       "        vertical-align: middle;\n",
       "    }\n",
       "\n",
       "    .dataframe tbody tr th {\n",
       "        vertical-align: top;\n",
       "    }\n",
       "\n",
       "    .dataframe thead th {\n",
       "        text-align: right;\n",
       "    }\n",
       "</style>\n",
       "<table border=\"1\" class=\"dataframe\">\n",
       "  <thead>\n",
       "    <tr style=\"text-align: right;\">\n",
       "      <th></th>\n",
       "      <th>age</th>\n",
       "      <th>education</th>\n",
       "      <th>capital_gain</th>\n",
       "      <th>capital_loss</th>\n",
       "      <th>hours_per_week</th>\n",
       "      <th>status_civic</th>\n",
       "      <th>target</th>\n",
       "    </tr>\n",
       "  </thead>\n",
       "  <tbody>\n",
       "    <tr>\n",
       "      <th>0</th>\n",
       "      <td>0.301370</td>\n",
       "      <td>0.800000</td>\n",
       "      <td>0.02174</td>\n",
       "      <td>0.0</td>\n",
       "      <td>0.397959</td>\n",
       "      <td>1.0</td>\n",
       "      <td>0</td>\n",
       "    </tr>\n",
       "    <tr>\n",
       "      <th>1</th>\n",
       "      <td>0.452055</td>\n",
       "      <td>0.800000</td>\n",
       "      <td>0.00000</td>\n",
       "      <td>0.0</td>\n",
       "      <td>0.122449</td>\n",
       "      <td>0.0</td>\n",
       "      <td>0</td>\n",
       "    </tr>\n",
       "    <tr>\n",
       "      <th>2</th>\n",
       "      <td>0.287671</td>\n",
       "      <td>0.533333</td>\n",
       "      <td>0.00000</td>\n",
       "      <td>0.0</td>\n",
       "      <td>0.397959</td>\n",
       "      <td>1.0</td>\n",
       "      <td>0</td>\n",
       "    </tr>\n",
       "    <tr>\n",
       "      <th>3</th>\n",
       "      <td>0.493151</td>\n",
       "      <td>0.400000</td>\n",
       "      <td>0.00000</td>\n",
       "      <td>0.0</td>\n",
       "      <td>0.397959</td>\n",
       "      <td>0.0</td>\n",
       "      <td>0</td>\n",
       "    </tr>\n",
       "    <tr>\n",
       "      <th>4</th>\n",
       "      <td>0.150685</td>\n",
       "      <td>0.800000</td>\n",
       "      <td>0.00000</td>\n",
       "      <td>0.0</td>\n",
       "      <td>0.397959</td>\n",
       "      <td>0.0</td>\n",
       "      <td>0</td>\n",
       "    </tr>\n",
       "  </tbody>\n",
       "</table>\n",
       "</div>"
      ],
      "text/plain": [
       "        age  education  capital_gain  capital_loss  hours_per_week  \\\n",
       "0  0.301370   0.800000       0.02174           0.0        0.397959   \n",
       "1  0.452055   0.800000       0.00000           0.0        0.122449   \n",
       "2  0.287671   0.533333       0.00000           0.0        0.397959   \n",
       "3  0.493151   0.400000       0.00000           0.0        0.397959   \n",
       "4  0.150685   0.800000       0.00000           0.0        0.397959   \n",
       "\n",
       "   status_civic  target  \n",
       "0           1.0       0  \n",
       "1           0.0       0  \n",
       "2           1.0       0  \n",
       "3           0.0       0  \n",
       "4           0.0       0  "
      ]
     },
     "execution_count": 8,
     "metadata": {},
     "output_type": "execute_result"
    }
   ],
   "source": [
    "data_train_norm.head()"
   ]
  },
  {
   "cell_type": "markdown",
   "metadata": {},
   "source": [
    "### Informação Importante\n",
    "Como já mencionado no notebook sobre análise dos dados, o dataset de treino sofre de um desbalanceamento muito grande.\n",
    "Veja o gráfico abaixo:\n",
    "\n",
    "\n"
   ]
  },
  {
   "cell_type": "code",
   "execution_count": 9,
   "metadata": {},
   "outputs": [
    {
     "data": {
      "image/png": "[encoded data removed]",
      "text/plain": [
       "<Figure size 576x576 with 1 Axes>"
      ]
     },
     "metadata": {
      "needs_background": "light"
     },
     "output_type": "display_data"
    }
   ],
   "source": [
    "plt.figure(figsize=(8,8))\n",
    "total = float(len(data_train) )\n",
    "\n",
    "ax = sns.countplot(x=\"target\", data=data_train)\n",
    "for p in ax.patches:\n",
    "    height = p.get_height()\n",
    "    ax.text(p.get_x()+p.get_width()/2.,height + 3,'{:1.2f}'.format((height/total)*100),ha=\"center\") \n",
    "    \n",
    "plt.show()"
   ]
  },
  {
   "cell_type": "code",
   "execution_count": 10,
   "metadata": {},
   "outputs": [],
   "source": [
    "def plot_cm(y_true, y_pred, figsize=(6,6)):\n",
    "    cm = confusion_matrix(y_true, y_pred, labels=np.unique(y_true))\n",
    "    cm_sum = np.sum(cm, axis=1, keepdims=True)\n",
    "    cm_perc = cm / cm_sum.astype(float) * 100\n",
    "    annot = np.empty_like(cm).astype(str)\n",
    "    nrows, ncols = cm.shape\n",
    "    for i in range(nrows):\n",
    "        for j in range(ncols):\n",
    "            c = cm[i, j]\n",
    "            p = cm_perc[i, j]\n",
    "            if i == j:\n",
    "                s = cm_sum[i]\n",
    "                annot[i, j] = '%.1f%%\\n%d/%d' % (p, c, s)\n",
    "            elif c == 0:\n",
    "                annot[i, j] = ''\n",
    "            else:\n",
    "                annot[i, j] = '%.1f%%\\n%d' % (p, c)\n",
    "    cm = pd.DataFrame(cm, index=np.unique(y_true), columns=np.unique(y_true))\n",
    "    cm.index.name = 'Actual'\n",
    "    cm.columns.name = 'Predicted'\n",
    "    fig, ax = plt.subplots(figsize=figsize)\n",
    "    ax.xaxis.set_ticklabels(['<=50K/Y', '>50K/Y'])\n",
    "    ax.yaxis.set_ticklabels(['<=50K/Y', '>50K/Y'])\n",
    "    sns.heatmap(cm, cmap= \"YlGnBu\", annot=annot, fmt='', ax=ax)"
   ]
  },
  {
   "cell_type": "markdown",
   "metadata": {},
   "source": [
    "# Explicando o fluxo\n",
    "\n",
    "Faremos o treinamento de cada algoritmo. Para esse notebook modelo será usado um algoritmo de Kmeans, seguindo a seguinte ordem:\n",
    "\n",
    "1. Treina-se com os datasets desbalanceados:\n",
    "    - Datasets com tratamento dos dados\n",
    "    - Datasets com tratamento mais normalização\n",
    "\n",
    "Em seguida escolheremos qual dataset irá seguir para testar com métodos under, over sampling e o mix dos dois metódos. Os resultados, serão avaliados, os quais iremos levar em consideração os seguintes paramêtros: accuracia e a recall de cada classe em especial a classe 1.\n",
    "\n",
    "Para além disso, a matriz será um paramêtro de escolha. Pois é preferível que tenhamos mais falso positivo do que falso negativo. Isso quer dizer que, melhor classificarmos que irá ganhar menor ou igual a 50k por ano e ela ganhar mais em relação a situação contrária. No entanto, vale ressaltar que não devemos esquecer a accuracia e a recall de cada classe nessa decisão.\n",
    "\n",
    "     \n",
    "     \n",
    "   "
   ]
  },
  {
   "cell_type": "markdown",
   "metadata": {},
   "source": [
    "# 1 Treina-se com os dataset desbalanceado:"
   ]
  },
  {
   "cell_type": "code",
   "execution_count": 11,
   "metadata": {},
   "outputs": [],
   "source": [
    "def trainModel(df_train,df_test, model,result):\n",
    "    X_train, X_test = df_train.drop(\"target\", axis = 1),df_test.drop(\"target\", axis = 1)\n",
    "    y_train, y_test = df_train.target,df_test.target\n",
    "    model.fit(X_train, y_train)\n",
    "    y_pred = model.predict(X_test)\n",
    "    acc = accuracy_score(y_test, y_pred)\n",
    "    print('Resultados do ', result)\n",
    "    print('Acurácia:\\n', acc)\n",
    "    print('Report dos parametros:\\n')\n",
    "    print (classification_report(y_test, y_pred))\n",
    "    print('Matriz de confusão:\\n')\n",
    "    plot_cm(y_test, y_pred)"
   ]
  },
  {
   "cell_type": "markdown",
   "metadata": {},
   "source": [
    "#### Datasets Tratado"
   ]
  },
  {
   "cell_type": "code",
   "execution_count": 12,
   "metadata": {},
   "outputs": [
    {
     "name": "stdout",
     "output_type": "stream",
     "text": [
      "Resultados do  Dataset com tratamento dos dados.\n",
      "Acurácia:\n",
      " 0.7596945551128818\n",
      "Report dos parametros:\n",
      "\n",
      "              precision    recall  f1-score   support\n",
      "\n",
      "           0       0.76      1.00      0.86     11360\n",
      "           1       1.00      0.02      0.04      3700\n",
      "\n",
      "    accuracy                           0.76     15060\n",
      "   macro avg       0.88      0.51      0.45     15060\n",
      "weighted avg       0.82      0.76      0.66     15060\n",
      "\n",
      "Matriz de confusão:\n",
      "\n"
     ]
    },
    {
     "name": "stderr",
     "output_type": "stream",
     "text": [
      "<ipython-input-10-d4a32cf3cb7c>:22: UserWarning: FixedFormatter should only be used together with FixedLocator\n",
      "  ax.xaxis.set_ticklabels(['<=50K/Y', '>50K/Y'])\n",
      "<ipython-input-10-d4a32cf3cb7c>:23: UserWarning: FixedFormatter should only be used together with FixedLocator\n",
      "  ax.yaxis.set_ticklabels(['<=50K/Y', '>50K/Y'])\n"
     ]
    },
    {
     "data": {
      "image/png": "[encoded data removed]",
      "text/plain": [
       "<Figure size 432x432 with 2 Axes>"
      ]
     },
     "metadata": {
      "needs_background": "light"
     },
     "output_type": "display_data"
    }
   ],
   "source": [
    "result = 'Dataset com tratamento dos dados.'\n",
    "model = KMeans(n_clusters=2,n_init=10,max_iter=300,random_state=42)\n",
    "trainModel(data_train,data_test, model, result)"
   ]
  },
  {
   "cell_type": "markdown",
   "metadata": {},
   "source": [
    "#### Datasets Normalizado"
   ]
  },
  {
   "cell_type": "code",
   "execution_count": 13,
   "metadata": {
    "scrolled": false
   },
   "outputs": [
    {
     "name": "stdout",
     "output_type": "stream",
     "text": [
      "Resultados do  Dataset com tratamento dos dados e normalização.\n",
      "Acurácia:\n",
      " 0.298738379814077\n",
      "Report dos parametros:\n",
      "\n",
      "              precision    recall  f1-score   support\n",
      "\n",
      "           0       0.56      0.35      0.43     11360\n",
      "           1       0.06      0.14      0.09      3700\n",
      "\n",
      "    accuracy                           0.30     15060\n",
      "   macro avg       0.31      0.24      0.26     15060\n",
      "weighted avg       0.43      0.30      0.35     15060\n",
      "\n",
      "Matriz de confusão:\n",
      "\n"
     ]
    },
    {
     "name": "stderr",
     "output_type": "stream",
     "text": [
      "<ipython-input-10-d4a32cf3cb7c>:22: UserWarning: FixedFormatter should only be used together with FixedLocator\n",
      "  ax.xaxis.set_ticklabels(['<=50K/Y', '>50K/Y'])\n",
      "<ipython-input-10-d4a32cf3cb7c>:23: UserWarning: FixedFormatter should only be used together with FixedLocator\n",
      "  ax.yaxis.set_ticklabels(['<=50K/Y', '>50K/Y'])\n"
     ]
    },
    {
     "data": {
      "image/png": "[encoded data removed]",
      "text/plain": [
       "<Figure size 432x432 with 2 Axes>"
      ]
     },
     "metadata": {
      "needs_background": "light"
     },
     "output_type": "display_data"
    }
   ],
   "source": [
    "result = 'Dataset com tratamento dos dados e normalização.'\n",
    "model = KMeans(n_clusters=2,n_init=10,max_iter=300,random_state=42)\n",
    "trainModel(data_train_norm,data_test_norm, model, result)"
   ]
  },
  {
   "cell_type": "markdown",
   "metadata": {},
   "source": [
    "# Comparação"
   ]
  },
  {
   "cell_type": "markdown",
   "metadata": {},
   "source": [
    "|     Logistic regression| Accuracy | Precision | Precision | Recall   | Recall   | Matriz | Matriz|           \n",
    "|:-----------:           |:--------:|:--------:|:---------:|:---------:|:--------:|:---------:|:--------:|\n",
    "|                        |          | classe 0  | classe 1 |  classe 0 | classe 1 |  FP       | FN        \n",
    "|    Dataset tratado     |  0.7596  |     0.76  |    1.00  |    1.00   | 0.02     | 0.000     | 0.978\n",
    "|    Dataset normalizado |  0.2987  |     0.56  |    0.06  |    0.35   | 0.14     | 0.649     | 0.863\n"
   ]
  },
  {
   "cell_type": "markdown",
   "metadata": {},
   "source": [
    "\n",
    "\t\t               "
   ]
  },
  {
   "cell_type": "markdown",
   "metadata": {},
   "source": [
    "#### Decisão qual dataset usar :\n",
    "\n",
    "Mediante aos resultados acima podemos ver que dataset tratado, sem normalização, apesar de apresentar maus resultados, pois classifica pessimamente a classe 1, acaba por ter melhores resultados se olharmos para a acurácia. Desta forma, vamos adotar nos proximos modelos os datasets tratados e concomitantemente iremos aplicar métodos para otimizar os resuldos uma vez que o dataset encontra-se desbalanceado.\n",
    "\n",
    "Iremos adotar os seguintes métodos \n",
    "\n",
    " 1. **O método de Over Sampling:**\n",
    "\n",
    "   - Aumenta-se a classe minoritária com dados sinteticos, para se igualar a classe majoritária.\n",
    "   \n",
    "    \n",
    "2. **O método de Under Sampling:**\n",
    "     \n",
    "     - Diminui-se a classe  majoritária deletando dados desta, para ela se igualar a classe minoritária.\n",
    "     \n",
    "     \n",
    "3. **O método da Equipa 9:**\n",
    "    \n",
    "    - Esse método é resultado da combinação dos dois métodos anteriores.\n",
    "\n"
   ]
  },
  {
   "cell_type": "markdown",
   "metadata": {},
   "source": [
    "### 1 - Over Sampling"
   ]
  },
  {
   "cell_type": "code",
   "execution_count": 14,
   "metadata": {},
   "outputs": [],
   "source": [
    "def trainMethodOver(df_train,df_test, model):\n",
    "    X = df_train.drop(\"target\", axis = 1)\n",
    "    y = df_train.target\n",
    "    smt = SMOTE()\n",
    "    X, y = smt.fit_sample(X, y)\n",
    "    print('Base de dados')\n",
    "    ax = sns.countplot(x=y)\n",
    "    X_train, X_test = X,df_test.drop(\"target\", axis = 1)\n",
    "    y_train, y_test = y,df_test.target\n",
    "    \n",
    "    model.fit(X_train, y_train)\n",
    "    y_pred = model.predict(X_test)\n",
    "    acc = accuracy_score(y_test, y_pred)\n",
    "    print('Acurácia:\\n', acc)\n",
    "    print('Report dos parametros:\\n')\n",
    "    print (classification_report(y_test, y_pred))\n",
    "    print('Matriz de confusão:\\n')\n",
    "    plot_cm(y_test, y_pred)"
   ]
  },
  {
   "cell_type": "code",
   "execution_count": 15,
   "metadata": {},
   "outputs": [
    {
     "name": "stdout",
     "output_type": "stream",
     "text": [
      "Base de dados\n",
      "Acurácia:\n",
      " 0.7596945551128818\n",
      "Report dos parametros:\n",
      "\n",
      "              precision    recall  f1-score   support\n",
      "\n",
      "           0       0.76      1.00      0.86     11360\n",
      "           1       1.00      0.02      0.04      3700\n",
      "\n",
      "    accuracy                           0.76     15060\n",
      "   macro avg       0.88      0.51      0.45     15060\n",
      "weighted avg       0.82      0.76      0.66     15060\n",
      "\n",
      "Matriz de confusão:\n",
      "\n"
     ]
    },
    {
     "name": "stderr",
     "output_type": "stream",
     "text": [
      "<ipython-input-10-d4a32cf3cb7c>:22: UserWarning: FixedFormatter should only be used together with FixedLocator\n",
      "  ax.xaxis.set_ticklabels(['<=50K/Y', '>50K/Y'])\n",
      "<ipython-input-10-d4a32cf3cb7c>:23: UserWarning: FixedFormatter should only be used together with FixedLocator\n",
      "  ax.yaxis.set_ticklabels(['<=50K/Y', '>50K/Y'])\n"
     ]
    },
    {
     "data": {
      "image/png": "[encoded data removed]",
      "text/plain": [
       "<Figure size 432x288 with 1 Axes>"
      ]
     },
     "metadata": {
      "needs_background": "light"
     },
     "output_type": "display_data"
    },
    {
     "data": {
      "image/png": "[encoded data removed]",
      "text/plain": [
       "<Figure size 432x432 with 2 Axes>"
      ]
     },
     "metadata": {
      "needs_background": "light"
     },
     "output_type": "display_data"
    }
   ],
   "source": [
    "modelOver = KMeans(n_clusters=2,n_init=10,max_iter=300,random_state=42)\n",
    "trainMethodOver(data_train,data_test, modelOver)"
   ]
  },
  {
   "cell_type": "markdown",
   "metadata": {},
   "source": [
    "A recall da classe 1 superou a classe 0, no entanto com a geração dos dados sinteticos da classe 1 podemos está produzindo um viés no modelo para classe 1. "
   ]
  },
  {
   "cell_type": "markdown",
   "metadata": {},
   "source": [
    "## 2 - Under Sampling"
   ]
  },
  {
   "cell_type": "code",
   "execution_count": 16,
   "metadata": {},
   "outputs": [],
   "source": [
    "def trainMethodUnder(df_train,df_test, model):\n",
    "    X = df_train.drop(\"target\", axis = 1)\n",
    "    y = df_train.target\n",
    "    nr = NearMiss()\n",
    "    X, y = nr.fit_sample(X, y)\n",
    "    ax = sns.countplot(x=y)\n",
    "    X_train, X_test = X,df_test.drop(\"target\", axis = 1)\n",
    "    y_train, y_test = y,df_test.target\n",
    "    \n",
    "    model.fit(X_train, y_train)\n",
    "    y_pred = model.predict(X_test)\n",
    "    acc = accuracy_score(y_test, y_pred)\n",
    "    print('Acurácia:\\n', acc)\n",
    "    print('Report dos parametros:\\n')\n",
    "    print (classification_report(y_test, y_pred))\n",
    "    print('Matriz de confusão:\\n')\n",
    "    plot_cm(y_test, y_pred)"
   ]
  },
  {
   "cell_type": "code",
   "execution_count": 17,
   "metadata": {},
   "outputs": [
    {
     "name": "stdout",
     "output_type": "stream",
     "text": [
      "Acurácia:\n",
      " 0.7596945551128818\n",
      "Report dos parametros:\n",
      "\n",
      "              precision    recall  f1-score   support\n",
      "\n",
      "           0       0.76      1.00      0.86     11360\n",
      "           1       1.00      0.02      0.04      3700\n",
      "\n",
      "    accuracy                           0.76     15060\n",
      "   macro avg       0.88      0.51      0.45     15060\n",
      "weighted avg       0.82      0.76      0.66     15060\n",
      "\n",
      "Matriz de confusão:\n",
      "\n"
     ]
    },
    {
     "name": "stderr",
     "output_type": "stream",
     "text": [
      "<ipython-input-10-d4a32cf3cb7c>:22: UserWarning: FixedFormatter should only be used together with FixedLocator\n",
      "  ax.xaxis.set_ticklabels(['<=50K/Y', '>50K/Y'])\n",
      "<ipython-input-10-d4a32cf3cb7c>:23: UserWarning: FixedFormatter should only be used together with FixedLocator\n",
      "  ax.yaxis.set_ticklabels(['<=50K/Y', '>50K/Y'])\n"
     ]
    },
    {
     "data": {
      "image/png": "[encoded data removed]",
      "text/plain": [
       "<Figure size 432x288 with 1 Axes>"
      ]
     },
     "metadata": {
      "needs_background": "light"
     },
     "output_type": "display_data"
    },
    {
     "data": {
      "image/png": "[encoded data removed]",
      "text/plain": [
       "<Figure size 432x432 with 2 Axes>"
      ]
     },
     "metadata": {
      "needs_background": "light"
     },
     "output_type": "display_data"
    }
   ],
   "source": [
    "modelUnder = KMeans(n_clusters=2,n_init=10,max_iter=300,random_state=42)\n",
    "trainMethodUnder(data_train,data_test, modelUnder)"
   ]
  },
  {
   "cell_type": "markdown",
   "metadata": {},
   "source": [
    "Parece melhor que o método anterior, houve uma melhora na classificação da classe 1 sem superar a classe 0. Com isso não mostra um viés. No entanto, podemos está perdendo muita informação pois deitamos fora mais da metade dos registos da classe 0 para se igualar a classe 1."
   ]
  },
  {
   "cell_type": "markdown",
   "metadata": {},
   "source": [
    "## 3 - Método Equipa 9"
   ]
  },
  {
   "cell_type": "code",
   "execution_count": 18,
   "metadata": {},
   "outputs": [],
   "source": [
    "def trainMethodTeam(df_train,df_test, model):\n",
    "    X = df_train.drop(\"target\", axis = 1)\n",
    "    y = df_train.target\n",
    "    ratio= np.bincount(data_train_norm.target)\n",
    "    ratiot = ratio[0]/ratio[1]\n",
    " \n",
    "    \n",
    "    \n",
    "    \n",
    "    over = SMOTE(sampling_strategy=0.5,random_state=10)\n",
    "    X, y = over.fit_sample(X, y)\n",
    "    under =  RandomUnderSampler(sampling_strategy=0.8)\n",
    "   \n",
    "    X, y = under.fit_sample(X, y)\n",
    "    print(np.bincount(y))\n",
    "    \n",
    "    \n",
    "   \n",
    "    print('Base de dados')\n",
    "    ax = sns.countplot(x=y)\n",
    "    X_train, X_test = X,df_test.drop(\"target\", axis = 1)\n",
    "    y_train, y_test = y,df_test.target\n",
    "    \n",
    "    model.fit(X_train, y_train)\n",
    "    y_pred = model.predict(X_test)\n",
    "    acc = accuracy_score(y_test, y_pred)\n",
    "    print('Acurácia:\\n', acc)\n",
    "    print('Report dos parametros:\\n')\n",
    "    print (classification_report(y_test, y_pred))\n",
    "    print('Matriz de confusão:\\n')\n",
    "    plot_cm(y_test, y_pred)"
   ]
  },
  {
   "cell_type": "code",
   "execution_count": 19,
   "metadata": {},
   "outputs": [
    {
     "name": "stdout",
     "output_type": "stream",
     "text": [
      "[14158 11327]\n",
      "Base de dados\n",
      "Acurácia:\n",
      " 0.7596945551128818\n",
      "Report dos parametros:\n",
      "\n",
      "              precision    recall  f1-score   support\n",
      "\n",
      "           0       0.76      1.00      0.86     11360\n",
      "           1       1.00      0.02      0.04      3700\n",
      "\n",
      "    accuracy                           0.76     15060\n",
      "   macro avg       0.88      0.51      0.45     15060\n",
      "weighted avg       0.82      0.76      0.66     15060\n",
      "\n",
      "Matriz de confusão:\n",
      "\n"
     ]
    },
    {
     "name": "stderr",
     "output_type": "stream",
     "text": [
      "<ipython-input-10-d4a32cf3cb7c>:22: UserWarning: FixedFormatter should only be used together with FixedLocator\n",
      "  ax.xaxis.set_ticklabels(['<=50K/Y', '>50K/Y'])\n",
      "<ipython-input-10-d4a32cf3cb7c>:23: UserWarning: FixedFormatter should only be used together with FixedLocator\n",
      "  ax.yaxis.set_ticklabels(['<=50K/Y', '>50K/Y'])\n"
     ]
    },
    {
     "data": {
      "image/png": "[encoded data removed]",
      "text/plain": [
       "<Figure size 432x288 with 1 Axes>"
      ]
     },
     "metadata": {
      "needs_background": "light"
     },
     "output_type": "display_data"
    },
    {
     "data": {
      "image/png": "[encoded data removed]",
      "text/plain": [
       "<Figure size 432x432 with 2 Axes>"
      ]
     },
     "metadata": {
      "needs_background": "light"
     },
     "output_type": "display_data"
    }
   ],
   "source": [
    "modelTeam = KMeans(n_clusters=2,n_init=10,max_iter=300,random_state=42)\n",
    "trainMethodTeam(data_train,data_test, modelTeam)"
   ]
  },
  {
   "cell_type": "markdown",
   "metadata": {},
   "source": [
    "# Elbow method"
   ]
  },
  {
   "cell_type": "markdown",
   "metadata": {},
   "source": [
    "Agora vamos usar o método do cotovelo para verificar qual é o K ideal (sendo K o número de clusters)."
   ]
  },
  {
   "cell_type": "code",
   "execution_count": 20,
   "metadata": {},
   "outputs": [],
   "source": [
    "kmeans_kwargs = {\"n_init\": 10,\"max_iter\": 300,\"random_state\": 42}\n",
    "\n",
    "sse = []\n",
    "X = data_train.drop(\"target\", axis = 1)\n",
    "y = data_train.target\n",
    "X_train, X_test = X,data_test.drop(\"target\", axis = 1)\n",
    "y_train, y_test = y,data_test.target\n",
    "for k in range(1, 11):\n",
    "    modelTeam = KMeans(n_clusters=k, **kmeans_kwargs)\n",
    "    modelTeam.fit(X_train,y_train)\n",
    "    sse.append(modelTeam.inertia_)"
   ]
  },
  {
   "cell_type": "code",
   "execution_count": 21,
   "metadata": {},
   "outputs": [
    {
     "data": {
      "image/png": "[encoded data removed]",
      "text/plain": [
       "<Figure size 432x288 with 1 Axes>"
      ]
     },
     "metadata": {},
     "output_type": "display_data"
    }
   ],
   "source": [
    "plt.style.use(\"fivethirtyeight\")\n",
    "plt.plot(range(1, 11), sse)\n",
    "plt.xticks(range(1, 11))\n",
    "plt.xlabel(\"Number of Clusters\")\n",
    "plt.ylabel(\"SSE\")\n",
    "plt.show()"
   ]
  },
  {
   "cell_type": "markdown",
   "metadata": {},
   "source": [
    "Como se pode ver, de acordo com o método do cotovelo, o K ideal é 2. No entanto, esse é o k que já tinhamos escolhido anteriormente para correr os modelos, logo o nosso modelo está otimizado."
   ]
  },
  {
   "cell_type": "markdown",
   "metadata": {},
   "source": [
    "# Resultados\n",
    "\n",
    "Levando em consideração a accuracia e a recall bem como outros parametros como falso positivo e falso negativo, o melhor modelo para esse algoritmo aqui testado seria o ultimo modelo. Esse com metodo construído pela equipa 9, um misto do método under e over sampling. Desta forma, iremos salvar o ultimo modelo. Pois caso este seja escolhido o melhor iremos colocar em produção."
   ]
  },
  {
   "cell_type": "code",
   "execution_count": 22,
   "metadata": {},
   "outputs": [],
   "source": [
    "pickle.dump(modelTeam, open('modeloKmeans.pkl', 'wb'))"
   ]
  }
 ],
 "metadata": {
  "kernelspec": {
   "display_name": "Python 3",
   "language": "python",
   "name": "python3"
  },
  "language_info": {
   "codemirror_mode": {
    "name": "ipython",
    "version": 3
   },
   "file_extension": ".py",
   "mimetype": "text/x-python",
   "name": "python",
   "nbconvert_exporter": "python",
   "pygments_lexer": "ipython3",
   "version": "3.8.5"
  }
 },
 "nbformat": 4,
 "nbformat_minor": 4
}
